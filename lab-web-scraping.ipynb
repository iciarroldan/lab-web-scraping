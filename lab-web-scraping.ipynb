{
 "cells": [
  {
   "cell_type": "markdown",
   "id": "7e7a1ab8-2599-417d-9a65-25ef07f3a786",
   "metadata": {
    "id": "7e7a1ab8-2599-417d-9a65-25ef07f3a786"
   },
   "source": [
    "# Lab | Web Scraping"
   ]
  },
  {
   "cell_type": "markdown",
   "id": "ce8882fc-4815-4567-92fa-b4816358ba7d",
   "metadata": {
    "id": "ce8882fc-4815-4567-92fa-b4816358ba7d"
   },
   "source": [
    "Welcome to the \"Books to Scrape\" Web Scraping Adventure Lab!\n",
    "\n",
    "**Objective**\n",
    "\n",
    "In this lab, we will embark on a mission to unearth valuable insights from the data available on Books to Scrape, an online platform showcasing a wide variety of books. As data analyst, you have been tasked with scraping a specific subset of book data from Books to Scrape to assist publishing companies in understanding the landscape of highly-rated books across different genres. Your insights will help shape future book marketing strategies and publishing decisions.\n",
    "\n",
    "**Background**\n",
    "\n",
    "In a world where data has become the new currency, businesses are leveraging big data to make informed decisions that drive success and profitability. The publishing industry, much like others, utilizes data analytics to understand market trends, reader preferences, and the performance of books based on factors such as genre, author, and ratings. Books to Scrape serves as a rich source of such data, offering detailed information about a diverse range of books, making it an ideal platform for extracting insights to aid in informed decision-making within the literary world.\n",
    "\n",
    "**Task**\n",
    "\n",
    "Your task is to create a Python script using BeautifulSoup and pandas to scrape Books to Scrape book data, focusing on book ratings and genres. The script should be able to filter books with ratings above a certain threshold and in specific genres. Additionally, the script should structure the scraped data in a tabular format using pandas for further analysis.\n",
    "\n",
    "**Expected Outcome**\n",
    "\n",
    "A function named `scrape_books` that takes two parameters: `min_rating` and `max_price`. The function should scrape book data from the \"Books to Scrape\" website and return a `pandas` DataFrame with the following columns:\n",
    "\n",
    "**Expected Outcome**\n",
    "\n",
    "- A function named `scrape_books` that takes two parameters: `min_rating` and `max_price`.\n",
    "- The function should return a DataFrame with the following columns:\n",
    "  - **UPC**: The Universal Product Code (UPC) of the book.\n",
    "  - **Title**: The title of the book.\n",
    "  - **Price (£)**: The price of the book in pounds.\n",
    "  - **Rating**: The rating of the book (1-5 stars).\n",
    "  - **Genre**: The genre of the book.\n",
    "  - **Availability**: Whether the book is in stock or not.\n",
    "  - **Description**: A brief description or product description of the book (if available).\n",
    "  \n",
    "You will execute this script to scrape data for books with a minimum rating of `4.0 and above` and a maximum price of `£20`. \n",
    "\n",
    "Remember to experiment with different ratings and prices to ensure your code is versatile and can handle various searches effectively!\n",
    "\n",
    "**Resources**\n",
    "\n",
    "- [Beautiful Soup Documentation](https://www.crummy.com/software/BeautifulSoup/bs4/doc/)\n",
    "- [Pandas Documentation](https://pandas.pydata.org/pandas-docs/stable/index.html)\n",
    "- [Books to Scrape](https://books.toscrape.com/)\n"
   ]
  },
  {
   "cell_type": "markdown",
   "id": "3519921d-5890-445b-9a33-934ed8ee378c",
   "metadata": {
    "id": "3519921d-5890-445b-9a33-934ed8ee378c"
   },
   "source": [
    "**Hint**\n",
    "\n",
    "Your first mission is to familiarize yourself with the **Books to Scrape** website. Navigate to [Books to Scrape](http://books.toscrape.com/) and explore the available books to understand their layout and structure. \n",
    "\n",
    "Next, think about how you can set parameters for your data extraction:\n",
    "\n",
    "- **Minimum Rating**: Focus on books with a rating of 4.0 and above.\n",
    "- **Maximum Price**: Filter for books priced up to £20.\n",
    "\n",
    "After reviewing the site, you can construct a plan for scraping relevant data. Pay attention to the details displayed for each book, including the title, price, rating, and availability. This will help you identify the correct HTML elements to target with your scraping script.\n",
    "\n",
    "Make sure to build your scraping URL and logic based on the patterns you observe in the HTML structure of the book listings!"
   ]
  },
  {
   "cell_type": "markdown",
   "id": "25a83a0d-a742-49f6-985e-e27887cbf922",
   "metadata": {
    "id": "25a83a0d-a742-49f6-985e-e27887cbf922"
   },
   "source": [
    "\n",
    "---\n",
    "\n",
    "**Best of luck! Immerse yourself in the world of books, and may the data be with you!**"
   ]
  },
  {
   "cell_type": "markdown",
   "id": "7b75cf0d-9afa-4eec-a9e2-befeac68b2a0",
   "metadata": {
    "id": "7b75cf0d-9afa-4eec-a9e2-befeac68b2a0"
   },
   "source": [
    "**Important Note**:\n",
    "\n",
    "In the fast-changing online world, websites often update and change their structures. When you try this lab, the **Books to Scrape** website might differ from what you expect.\n",
    "\n",
    "If you encounter issues due to these changes, like new rules or obstacles preventing data extraction, don’t worry! Get creative.\n",
    "\n",
    "You can choose another website that interests you and is suitable for scraping data. Options like Wikipedia, The New York Times, or even library databases are great alternatives. The main goal remains the same: extract useful data and enhance your web scraping skills while exploring a source of information you enjoy. This is your opportunity to practice and adapt to different web environments!"
   ]
  },
  {
   "cell_type": "code",
   "execution_count": 3,
   "id": "b7b1c930-4211-4cad-b3d2-f6a02927b1d9",
   "metadata": {},
   "outputs": [],
   "source": [
    "# Your solution goes here\n",
    "import requests\n",
    "from bs4 import BeautifulSoup\n",
    "import pandas as pd\n",
    "import time"
   ]
  },
  {
   "cell_type": "code",
   "execution_count": 5,
   "id": "40359eee-9cd7-4884-bfa4-83344c222305",
   "metadata": {
    "id": "40359eee-9cd7-4884-bfa4-83344c222305"
   },
   "outputs": [],
   "source": [
    "# Mapping of star-rating words to numeric values\n",
    "RATING_MAP = {\n",
    "    \"One\": 1,\n",
    "    \"Two\": 2,\n",
    "    \"Three\": 3,\n",
    "    \"Four\": 4,\n",
    "    \"Five\": 5\n",
    "}\n",
    "\n",
    "BASE_URL = \"http://books.toscrape.com/\"\n",
    "\n",
    "def get_genre(book_url):\n",
    "    response = requests.get(book_url)\n",
    "    soup = BeautifulSoup(response.content, 'html.parser')\n",
    "    breadcrumb = soup.select(\"ul.breadcrumb li a\")\n",
    "    if len(breadcrumb) >= 3:\n",
    "        return breadcrumb[2].text.strip()\n",
    "    return None\n",
    "\n",
    "def get_description(soup):\n",
    "    desc = soup.find('meta', attrs={\"name\": \"description\"})\n",
    "    if desc:\n",
    "        return desc.get(\"content\").strip()\n",
    "    return \"No description available.\"\n",
    "\n",
    "def get_upc(soup):\n",
    "    try:\n",
    "        return soup.find('th', text='UPC').find_next_sibling('td').text\n",
    "    except:\n",
    "        return None\n",
    "\n",
    "def scrape_books(min_rating=4, max_price=20.0):\n",
    "    books = []\n",
    "    page_num = 1\n",
    "\n",
    "    while True:\n",
    "        url = f\"{BASE_URL}catalogue/page-{page_num}.html\"\n",
    "        response = requests.get(url)\n",
    "        if response.status_code != 200:\n",
    "            break\n",
    "\n",
    "        soup = BeautifulSoup(response.content, 'html.parser')\n",
    "        book_items = soup.select('article.product_pod')\n",
    "\n",
    "        for item in book_items:\n",
    "            # Get rating\n",
    "            rating_class = item.find('p', class_='star-rating')['class'][1]\n",
    "            rating = RATING_MAP.get(rating_class, 0)\n",
    "            if rating < min_rating:\n",
    "                continue\n",
    "\n",
    "            # Get price\n",
    "            price = float(item.find('p', class_='price_color').text[2:])\n",
    "            if price > max_price:\n",
    "                continue\n",
    "\n",
    "            title = item.h3.a['title']\n",
    "            book_relative_url = item.h3.a['href'].replace('../../../', '')\n",
    "            book_url = BASE_URL + \"catalogue/\" + book_relative_url\n",
    "\n",
    "            book_response = requests.get(book_url)\n",
    "            book_soup = BeautifulSoup(book_response.content, 'html.parser')\n",
    "\n",
    "            upc = get_upc(book_soup)\n",
    "            genre = get_genre(book_url)\n",
    "            availability = book_soup.find('p', class_='instock availability').text.strip()\n",
    "            description = get_description(book_soup)\n",
    "\n",
    "            books.append({\n",
    "                \"UPC\": upc,\n",
    "                \"Title\": title,\n",
    "                \"Price (£)\": price,\n",
    "                \"Rating\": rating,\n",
    "                \"Genre\": genre,\n",
    "                \"Availability\": availability,\n",
    "                \"Description\": description\n",
    "            })\n",
    "\n",
    "            time.sleep(0.2)  # Be polite to the server\n",
    "\n",
    "        page_num += 1\n",
    "\n",
    "    return pd.DataFrame(books)\n"
   ]
  },
  {
   "cell_type": "code",
   "execution_count": 7,
   "id": "791172c2-0f92-49c9-9f78-c20b4e5aeda5",
   "metadata": {},
   "outputs": [
    {
     "name": "stderr",
     "output_type": "stream",
     "text": [
      "/var/folders/0b/0nt_hmld68j1x9vbn6980snc0000gn/T/ipykernel_83009/917534377.py:28: DeprecationWarning: The 'text' argument to find()-type methods is deprecated. Use 'string' instead.\n",
      "  return soup.find('th', text='UPC').find_next_sibling('td').text\n"
     ]
    },
    {
     "name": "stdout",
     "output_type": "stream",
     "text": [
      "                UPC                                              Title  \\\n",
      "0  e00eb4fd7b871a48                                      Sharp Objects   \n",
      "1  4165285e1663650f              Sapiens: A Brief History of Humankind   \n",
      "2  2597b5a345f45e1b  The Dirty Little Secrets of Getting Your Dream...   \n",
      "3  e10e1e165dc8be4a  The Boys in the Boat: Nine Americans and Their...   \n",
      "4  30a7f60cd76ca58c                              Shakespeare's Sonnets   \n",
      "\n",
      "   Price (£)  Rating     Genre             Availability  \\\n",
      "0       7.82       4   Mystery  In stock (20 available)   \n",
      "1       4.23       5   History  In stock (20 available)   \n",
      "2       3.34       4  Business  In stock (19 available)   \n",
      "3       2.60       4   Default  In stock (19 available)   \n",
      "4       0.66       4    Poetry  In stock (19 available)   \n",
      "\n",
      "                                         Description  \n",
      "0  WICKED above her hipbone, GIRL across her hear...  \n",
      "1  From a renowned historian comes a groundbreaki...  \n",
      "2  Drawing on his extensive experience evaluating...  \n",
      "3  For readers of Laura Hillenbrand's Seabiscuit ...  \n",
      "4  This book is an important and complete collect...  \n"
     ]
    }
   ],
   "source": [
    "df = scrape_books(min_rating=4, max_price=20.0)\n",
    "print(df.head())"
   ]
  },
  {
   "cell_type": "code",
   "execution_count": null,
   "id": "9f6fa48b-ff69-412a-806c-0b0479e47d33",
   "metadata": {},
   "outputs": [],
   "source": []
  }
 ],
 "metadata": {
  "colab": {
   "provenance": []
  },
  "kernelspec": {
   "display_name": "Python 3 (ipykernel)",
   "language": "python",
   "name": "python3"
  },
  "language_info": {
   "codemirror_mode": {
    "name": "ipython",
    "version": 3
   },
   "file_extension": ".py",
   "mimetype": "text/x-python",
   "name": "python",
   "nbconvert_exporter": "python",
   "pygments_lexer": "ipython3",
   "version": "3.12.4"
  }
 },
 "nbformat": 4,
 "nbformat_minor": 5
}
